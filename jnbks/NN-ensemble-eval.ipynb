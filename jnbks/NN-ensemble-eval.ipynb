{
 "cells": [
  {
   "cell_type": "code",
   "execution_count": 1,
   "id": "5007f190",
   "metadata": {},
   "outputs": [],
   "source": [
    "import re\n",
    "import os\n",
    "import csv\n",
    "import numpy as np\n",
    "import matplotlib.pyplot as plt\n",
    "import shutil\n",
    "\n",
    "#This jupyter notebook extracts the potential energy prediction from a LAMMPS\n",
    "#  single-point calculation driven by an ensemble of neural network (NN) potentials. \n",
    "\n",
    "#This calculation is done on a list of new structures. If the potential energy \n",
    "#  predictions from the current NN generation has standard deviation exceeding \n",
    "#  0.0025 eV/atom, these structures are most likely in regions of the phase space\n",
    "#  not covered by previous training\n",
    "\n",
    "# Structures are then extracted in a new folder to be included\n",
    "#  in the training set for a subsequent NN generation."
   ]
  },
  {
   "cell_type": "code",
   "execution_count": 2,
   "id": "4c1b8421",
   "metadata": {},
   "outputs": [],
   "source": [
    "folder_nn_1 = 'nn_1_out'\n",
    "folder_nn_2 = 'nn_2_out'\n",
    "folder_nn_3 = 'nn_3_out'\n",
    "folder_nn_4 = 'nn_4_out'\n",
    "folder_nn_5 = 'nn_5_out'\n"
   ]
  },
  {
   "cell_type": "code",
   "execution_count": 17,
   "id": "9f649773",
   "metadata": {
    "scrolled": true
   },
   "outputs": [],
   "source": [
    "def make_e_array(folder):\n",
    "    \n",
    "    %cd /Users/pedrogm/Desktop/Berkeley/olsalz-project/phase-II-potential-training/outputs\n",
    "\n",
    "    %cd {folder}\n",
    "    current_directory = os.getcwd()\n",
    "\n",
    "    struct_array = []\n",
    "    atoms_number = []\n",
    "    pot_energy = []\n",
    "    \n",
    "    #Find files .out\n",
    "    for filename in os.listdir(current_directory):\n",
    "        if filename[-4:] == '.out':\n",
    "            #Get Structure Name\n",
    "            struct_array.append(filename[:-4])\n",
    "            with open(filename, 'r') as f:\n",
    "                target_index = -99\n",
    "                done = 0\n",
    "                #Go through all lines of output file\n",
    "                for i, line in enumerate(f):\n",
    "                    if done == 0:\n",
    "                        #Find # of atoms to calculate atomic E\n",
    "                        match_num = re.search(r\"(\\d+) atoms\", line)\n",
    "                        if match_num:\n",
    "                            num_atoms = int(match_num.group(1))\n",
    "                            atoms_number.append(num_atoms)\n",
    "                            done = 1\n",
    "                    \n",
    "                    #Find Potential Energy\n",
    "                    if i == target_index + 1:\n",
    "                        pattern = r'-?\\d+(?:\\.\\d+)?'\n",
    "                        match = re.findall(pattern, line)\n",
    "                        pot_energy.append(float(match[3]))\n",
    "                    \n",
    "                    #Find beggining of with potential energy\n",
    "                    if str(line.split(\" \")[0]) == \"Step\":\n",
    "                        target_index = i\n",
    "\n",
    "    #Sort things properly so the structures are in order, and sort pot. energy and # of atoms array\n",
    "    sorted_indices = sorted(range(len(struct_array)), key=lambda k: struct_array[k])\n",
    "    struct_array = [struct_array[i] for i in sorted_indices]\n",
    "    pot_energy = [pot_energy[i] for i in sorted_indices]\n",
    "    atoms_number = [atoms_number[i] for i in sorted_indices]\n",
    "    \n",
    "    return [np.asarray(struct_array), np.asarray(pot_energy), np.asarray(atoms_number)]\n",
    "            \n",
    "        "
   ]
  },
  {
   "cell_type": "code",
   "execution_count": 18,
   "id": "78a0b055",
   "metadata": {},
   "outputs": [
    {
     "name": "stdout",
     "output_type": "stream",
     "text": [
      "/Users/pedrogm/Desktop/Berkeley/olsalz-project/phase-II-potential-training/outputs\n",
      "/Users/pedrogm/Desktop/Berkeley/olsalz-project/phase-II-potential-training/outputs/nn_1_out\n",
      "/Users/pedrogm/Desktop/Berkeley/olsalz-project/phase-II-potential-training/outputs\n",
      "/Users/pedrogm/Desktop/Berkeley/olsalz-project/phase-II-potential-training/outputs/nn_2_out\n",
      "/Users/pedrogm/Desktop/Berkeley/olsalz-project/phase-II-potential-training/outputs\n",
      "/Users/pedrogm/Desktop/Berkeley/olsalz-project/phase-II-potential-training/outputs/nn_3_out\n",
      "/Users/pedrogm/Desktop/Berkeley/olsalz-project/phase-II-potential-training/outputs\n",
      "/Users/pedrogm/Desktop/Berkeley/olsalz-project/phase-II-potential-training/outputs/nn_4_out\n",
      "/Users/pedrogm/Desktop/Berkeley/olsalz-project/phase-II-potential-training/outputs\n",
      "/Users/pedrogm/Desktop/Berkeley/olsalz-project/phase-II-potential-training/outputs/nn_5_out\n"
     ]
    }
   ],
   "source": [
    "nn_1 = make_e_array(folder_nn_1)\n",
    "nn_2 = make_e_array(folder_nn_2)\n",
    "nn_3 = make_e_array(folder_nn_3)\n",
    "nn_4 = make_e_array(folder_nn_4)\n",
    "nn_5 = make_e_array(folder_nn_5)"
   ]
  },
  {
   "cell_type": "code",
   "execution_count": 9,
   "id": "1dfb3c3b",
   "metadata": {},
   "outputs": [],
   "source": [
    "#Create array with the stdev of each structure accross ensemble\n",
    "\n",
    "e_etomic_nn_1 = nn_1[1] / nn_1[2]\n",
    "e_etomic_nn_2 = nn_2[1] / nn_2[2]\n",
    "e_etomic_nn_3 = nn_3[1] / nn_3[2]\n",
    "e_etomic_nn_4 = nn_4[1] / nn_4[2]\n",
    "e_etomic_nn_5 = nn_5[1] / nn_5[2]\n",
    "\n",
    "avg = (\n",
    "    e_etomic_nn_1 + \n",
    "    e_etomic_nn_2 + \n",
    "    e_etomic_nn_3 + \n",
    "    e_etomic_nn_4 + \n",
    "    e_etomic_nn_4  \n",
    "        )/5\n",
    "\n",
    "\n",
    "stdev = ((\n",
    "    (e_etomic_nn_1 - avg)**2 + \n",
    "    (e_etomic_nn_2 - avg)**2 + \n",
    "    (e_etomic_nn_3 - avg)**2 + \n",
    "    (e_etomic_nn_4 - avg)**2 + \n",
    "    (e_etomic_nn_5 - avg)**2\n",
    "        )/5)**(1/2)\n",
    "\n"
   ]
  },
  {
   "cell_type": "code",
   "execution_count": 11,
   "id": "2acf413c",
   "metadata": {},
   "outputs": [],
   "source": [
    "#Extract list of configurations with stdev above threshold e\n",
    "\n",
    "e = 0.0025\n",
    "indices = np.where(stdev > e)\n",
    "structures = np.take(nn_1[1], indices)\n",
    "\n"
   ]
  },
  {
   "cell_type": "code",
   "execution_count": 12,
   "id": "b3885b98",
   "metadata": {},
   "outputs": [
    {
     "data": {
      "image/png": "[encoded data removed]",
      "text/plain": [
       "<Figure size 640x480 with 1 Axes>"
      ]
     },
     "metadata": {},
     "output_type": "display_data"
    }
   ],
   "source": [
    "plt.hist(stdev, density=True, bins=30)  # density=False would make counts\n",
    "plt.axvline(x = 0.0025, color='red')\n",
    "plt.ylabel('# of Structures')\n",
    "plt.xlabel('Standard Deviation (eV)');\n"
   ]
  },
  {
   "cell_type": "code",
   "execution_count": null,
   "id": "fa8d62db",
   "metadata": {},
   "outputs": [],
   "source": [
    "#Add the .lammps extension \n",
    "\n",
    "final_list_inputs = []\n",
    "for i in range(len(structures[0])):\n",
    "    final_list_inputs.append(structures[0][i] + \".lammps\")"
   ]
  },
  {
   "cell_type": "code",
   "execution_count": null,
   "id": "14618e95",
   "metadata": {},
   "outputs": [],
   "source": [
    "%cd /Users/pedrogm/Desktop/Research/dmpn-project/low_t_MD/struct/all_structures\n",
    "\n",
    "\n",
    "for file in final_list_inputs:\n",
    "    # get full path of source file\n",
    "    source_file = os.path.abspath(file)\n",
    "    \n",
    "    # construct full path of target file\n",
    "    target_file = '/Users/pedrogm/Desktop/Research/dmpn-project/low_t_MD/struct/qe_structures/' + file\n",
    "\n",
    "    # copy file to target directory\n",
    "    shutil.copy2(source_file, target_file)\n",
    "\n"
   ]
  },
  {
   "cell_type": "code",
   "execution_count": null,
   "id": "2570cf69",
   "metadata": {},
   "outputs": [],
   "source": []
  },
  {
   "cell_type": "code",
   "execution_count": null,
   "id": "702aff1b",
   "metadata": {},
   "outputs": [],
   "source": []
  }
 ],
 "metadata": {
  "kernelspec": {
   "display_name": "Python 3 (ipykernel)",
   "language": "python",
   "name": "python3"
  },
  "language_info": {
   "codemirror_mode": {
    "name": "ipython",
    "version": 3
   },
   "file_extension": ".py",
   "mimetype": "text/x-python",
   "name": "python",
   "nbconvert_exporter": "python",
   "pygments_lexer": "ipython3",
   "version": "3.10.1"
  }
 },
 "nbformat": 4,
 "nbformat_minor": 5
}
